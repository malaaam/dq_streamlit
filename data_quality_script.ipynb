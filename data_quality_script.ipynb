{
 "cells": [
  {
   "cell_type": "code",
   "execution_count": 31,
   "id": "confident-indonesia",
   "metadata": {},
   "outputs": [],
   "source": [
    "# import libraries\n",
    "import pandas as pd\n",
    "#from minio import Minio\n",
    "import json\n",
    "from os.path import join\n",
    "import os, io\n",
    "from dataquality import DataQuality"
   ]
  },
  {
   "cell_type": "code",
   "execution_count": 30,
   "id": "higher-hands",
   "metadata": {},
   "outputs": [],
   "source": [
    "# load dataset\n",
    "rssi_df = pd.read_csv(r\"processed_amd1_tu_145_blue_30-01-2021.csv\")"
   ]
  },
  {
   "cell_type": "code",
   "execution_count": 32,
   "id": "impaired-museum",
   "metadata": {},
   "outputs": [],
   "source": [
    "# create dq object by passing the dataframe on which we have to implement the dq module\n",
    "dq = DataQuality(rssi_df)"
   ]
  },
  {
   "cell_type": "markdown",
   "id": "amazing-slope",
   "metadata": {},
   "source": [
    "#### Sparsity"
   ]
  },
  {
   "cell_type": "code",
   "execution_count": null,
   "id": "australian-original",
   "metadata": {},
   "outputs": [],
   "source": [
    "json.loads(dq.check_sparsity(threshold_percent = 200))"
   ]
  },
  {
   "cell_type": "markdown",
   "id": "continuing-wrestling",
   "metadata": {},
   "source": [
    "#### Columns in the data"
   ]
  },
  {
   "cell_type": "code",
   "execution_count": 30,
   "id": "perfect-dialogue",
   "metadata": {},
   "outputs": [
    {
     "data": {
      "text/plain": [
       "{'check_type': 'check dataframe columns to match a set of columns',\n",
       " 'qualification_level': 'verify',\n",
       " 'expected_value': ['time',\n",
       "  'train_id',\n",
       "  'train_speed',\n",
       "  'lost_pkt',\n",
       "  'obm_color',\n",
       "  'obm_direction',\n",
       "  'track_id',\n",
       "  'kp_in_track',\n",
       "  'scanned_mac_address',\n",
       "  'rssi_dbm',\n",
       "  'ho_count',\n",
       "  'ho_duration',\n",
       "  'crssi_dbm'],\n",
       " 'observed_value': {'columns_in_data': ['ws_source_ip',\n",
       "   'ws_destination_ip',\n",
       "   'time',\n",
       "   'train_id',\n",
       "   'train_speed',\n",
       "   'mesg_seq_number',\n",
       "   'lost_pkt',\n",
       "   'obm_cab_id',\n",
       "   'obm_color',\n",
       "   'obm_direction',\n",
       "   'block_id',\n",
       "   'absc_in_block',\n",
       "   'track_id',\n",
       "   'kp_in_track',\n",
       "   'time_epoch',\n",
       "   'obm_source_ip',\n",
       "   'scanned_mac_address',\n",
       "   'rssi_dbm',\n",
       "   'connected_mac_address',\n",
       "   'ho_count',\n",
       "   'ho_duration',\n",
       "   'crssi_dbm',\n",
       "   'irssi_dbm'],\n",
       "  'columns_not_in_data': [],\n",
       "  'columns_unexpected': ['connected_mac_address',\n",
       "   'irssi_dbm',\n",
       "   'time_epoch',\n",
       "   'obm_cab_id',\n",
       "   'block_id',\n",
       "   'mesg_seq_number',\n",
       "   'ws_destination_ip',\n",
       "   'ws_source_ip',\n",
       "   'obm_source_ip',\n",
       "   'absc_in_block']},\n",
       " 'result': True}"
      ]
     },
     "execution_count": 30,
     "metadata": {},
     "output_type": "execute_result"
    }
   ],
   "source": [
    "list_cols = [\"time\",\"train_id\",\"train_speed\",\"lost_pkt\",\"obm_color\",\"obm_direction\", \\\n",
    " \"track_id\",\"kp_in_track\",\"scanned_mac_address\",\"rssi_dbm\",\"ho_count\",\"ho_duration\",\"crssi_dbm\"]\n",
    "\n",
    "json.loads(dq.check_columns_to_match_set(columns_list = list_cols, qlevel='verify'))"
   ]
  },
  {
   "cell_type": "markdown",
   "id": "regular-colleague",
   "metadata": {},
   "source": [
    "#### Column datatype"
   ]
  },
  {
   "cell_type": "code",
   "execution_count": 48,
   "id": "laughing-locking",
   "metadata": {},
   "outputs": [
    {
     "data": {
      "text/plain": [
       "{'check_type': 'check column datatype',\n",
       " 'column_name': 'train_id',\n",
       " 'expected_value': \"<class 'int'>\",\n",
       " 'observed_value': 'int64',\n",
       " 'result': True}"
      ]
     },
     "execution_count": 48,
     "metadata": {},
     "output_type": "execute_result"
    }
   ],
   "source": [
    "# train id to be of type int\n",
    "json.loads(dq.check_column_datatype(column = \"train_id\", expected_type = int))"
   ]
  },
  {
   "cell_type": "code",
   "execution_count": 49,
   "id": "awful-emergency",
   "metadata": {},
   "outputs": [
    {
     "data": {
      "text/plain": [
       "{'check_type': 'check column datatype',\n",
       " 'column_name': 'train_speed',\n",
       " 'expected_value': \"<class 'float'>\",\n",
       " 'observed_value': 'float64',\n",
       " 'result': True}"
      ]
     },
     "execution_count": 49,
     "metadata": {},
     "output_type": "execute_result"
    }
   ],
   "source": [
    "# train id to be of type int\n",
    "json.loads(dq.check_column_datatype(column = \"train_speed\", expected_type = float))"
   ]
  },
  {
   "cell_type": "code",
   "execution_count": 51,
   "id": "elect-theology",
   "metadata": {},
   "outputs": [
    {
     "data": {
      "text/plain": [
       "{'check_type': 'check column datatype',\n",
       " 'column_name': 'time',\n",
       " 'expected_value': \"<class 'object'>\",\n",
       " 'observed_value': 'object',\n",
       " 'result': True}"
      ]
     },
     "execution_count": 51,
     "metadata": {},
     "output_type": "execute_result"
    }
   ],
   "source": [
    "# train id to be of type int\n",
    "json.loads(dq.check_column_datatype(column = \"time\", expected_type = object))"
   ]
  },
  {
   "cell_type": "markdown",
   "id": "immune-governor",
   "metadata": {},
   "source": [
    "#### Range"
   ]
  },
  {
   "cell_type": "code",
   "execution_count": 33,
   "id": "front-vessel",
   "metadata": {},
   "outputs": [
    {
     "data": {
      "text/plain": [
       "{'check_type': 'check values to be in a specific range',\n",
       " 'column_name': 'rssi_dbm',\n",
       " 'qualification_level': 'verify',\n",
       " 'expected_values_range': [-100, -20],\n",
       " 'include_null': False,\n",
       " 'threshold': {'threshold_percent': 3, 'threshold_value': 46995},\n",
       " 'observed_value': {'total_values': 1566528,\n",
       "  'not_null_values': 1531824,\n",
       "  'null_values': 34704,\n",
       "  'values_in_range': 1531824,\n",
       "  'values_out_range': 0},\n",
       " 'drop_unexpected': False,\n",
       " 'result': True}"
      ]
     },
     "execution_count": 33,
     "metadata": {},
     "output_type": "execute_result"
    }
   ],
   "source": [
    "json.loads(dq.check_column_values_to_be_between(column = \"rssi_dbm\", values_range = [-100,-20], qlevel='verify', threshold_percent=3, include_null = False, drop_unexpected_rows=False))"
   ]
  },
  {
   "cell_type": "code",
   "execution_count": 34,
   "id": "regulation-preliminary",
   "metadata": {},
   "outputs": [
    {
     "data": {
      "text/plain": [
       "{'check_type': 'check values to be in a specific range',\n",
       " 'column_name': 'crssi_dbm',\n",
       " 'qualification_level': 'verify',\n",
       " 'expected_values_range': [-85, -20],\n",
       " 'include_null': False,\n",
       " 'threshold': {'threshold_percent': 1, 'threshold_value': 15665},\n",
       " 'observed_value': {'total_values': 1566528,\n",
       "  'not_null_values': 568657,\n",
       "  'null_values': 997871,\n",
       "  'values_in_range': 568650,\n",
       "  'values_out_range': 7},\n",
       " 'drop_unexpected': False,\n",
       " 'result': True}"
      ]
     },
     "execution_count": 34,
     "metadata": {},
     "output_type": "execute_result"
    }
   ],
   "source": [
    "json.loads(dq.check_column_values_to_be_between(column = \"crssi_dbm\", values_range = [-85,-20], qlevel='verify', threshold_percent=1, include_null = False, drop_unexpected_rows=False))"
   ]
  },
  {
   "cell_type": "code",
   "execution_count": 35,
   "id": "cheap-lending",
   "metadata": {},
   "outputs": [
    {
     "data": {
      "text/plain": [
       "{'check_type': 'check values to be in a specific range',\n",
       " 'column_name': 'train_speed',\n",
       " 'qualification_level': 'assert',\n",
       " 'expected_values_range': [0, 85],\n",
       " 'include_null': True,\n",
       " 'threshold': {'threshold_percent': 0, 'threshold_value': 0},\n",
       " 'observed_value': {'total_values': 1566528,\n",
       "  'not_null_values': 1566528,\n",
       "  'null_values': 0,\n",
       "  'values_in_range': 1566528,\n",
       "  'values_out_range': 0},\n",
       " 'drop_unexpected': False,\n",
       " 'result': True}"
      ]
     },
     "execution_count": 35,
     "metadata": {},
     "output_type": "execute_result"
    }
   ],
   "source": [
    "json.loads(dq.check_column_values_to_be_between(column = \"train_speed\", values_range = [0,85], qlevel='assert'))"
   ]
  },
  {
   "cell_type": "markdown",
   "id": "humanitarian-irish",
   "metadata": {},
   "source": [
    "#### Null values"
   ]
  },
  {
   "cell_type": "code",
   "execution_count": 36,
   "id": "applied-landscape",
   "metadata": {},
   "outputs": [
    {
     "data": {
      "text/plain": [
       "{'check_type': 'Check column values to be not null',\n",
       " 'column_name': 'time',\n",
       " 'qualification_level': 'assert',\n",
       " 'threshold': {'threshold_percent': 0, 'threshold_value': 0},\n",
       " 'observed_value': {'total_values': 1566528,\n",
       "  'not_null_values': 1566528,\n",
       "  'null_values': 0},\n",
       " 'drop_unexpected': False,\n",
       " 'result': True}"
      ]
     },
     "execution_count": 36,
     "metadata": {},
     "output_type": "execute_result"
    }
   ],
   "source": [
    "json.loads(dq.check_column_values_not_null(column = \"time\", qlevel='assert'))"
   ]
  },
  {
   "cell_type": "code",
   "execution_count": 37,
   "id": "concerned-sword",
   "metadata": {},
   "outputs": [
    {
     "data": {
      "text/plain": [
       "{'check_type': 'Check column values to be not null',\n",
       " 'column_name': 'train_speed',\n",
       " 'qualification_level': 'assert',\n",
       " 'threshold': {'threshold_percent': 0, 'threshold_value': 0},\n",
       " 'observed_value': {'total_values': 1566528,\n",
       "  'not_null_values': 1566528,\n",
       "  'null_values': 0},\n",
       " 'drop_unexpected': False,\n",
       " 'result': True}"
      ]
     },
     "execution_count": 37,
     "metadata": {},
     "output_type": "execute_result"
    }
   ],
   "source": [
    "json.loads(dq.check_column_values_not_null(column = \"train_speed\", qlevel='assert'))"
   ]
  },
  {
   "cell_type": "code",
   "execution_count": 38,
   "id": "vocational-classroom",
   "metadata": {},
   "outputs": [
    {
     "data": {
      "text/plain": [
       "{'check_type': 'Check column values to be not null',\n",
       " 'column_name': 'train_id',\n",
       " 'qualification_level': 'assert',\n",
       " 'threshold': {'threshold_percent': 0, 'threshold_value': 0},\n",
       " 'observed_value': {'total_values': 1566528,\n",
       "  'not_null_values': 1566528,\n",
       "  'null_values': 0},\n",
       " 'drop_unexpected': False,\n",
       " 'result': True}"
      ]
     },
     "execution_count": 38,
     "metadata": {},
     "output_type": "execute_result"
    }
   ],
   "source": [
    "json.loads(dq.check_column_values_not_null(column = \"train_id\", qlevel='assert'))"
   ]
  },
  {
   "cell_type": "code",
   "execution_count": 39,
   "id": "mineral-knight",
   "metadata": {},
   "outputs": [
    {
     "data": {
      "text/plain": [
       "{'check_type': 'Check column values to be not null',\n",
       " 'column_name': 'obm_color',\n",
       " 'qualification_level': 'assert',\n",
       " 'threshold': {'threshold_percent': 0, 'threshold_value': 0},\n",
       " 'observed_value': {'total_values': 1566528,\n",
       "  'not_null_values': 1566528,\n",
       "  'null_values': 0},\n",
       " 'drop_unexpected': False,\n",
       " 'result': True}"
      ]
     },
     "execution_count": 39,
     "metadata": {},
     "output_type": "execute_result"
    }
   ],
   "source": [
    "json.loads(dq.check_column_values_not_null(column = \"obm_color\", qlevel='assert'))"
   ]
  },
  {
   "cell_type": "code",
   "execution_count": 40,
   "id": "baking-investor",
   "metadata": {},
   "outputs": [
    {
     "data": {
      "text/plain": [
       "{'check_type': 'Check column values to be not null',\n",
       " 'column_name': 'obm_direction',\n",
       " 'qualification_level': 'assert',\n",
       " 'threshold': {'threshold_percent': 0, 'threshold_value': 0},\n",
       " 'observed_value': {'total_values': 1566528,\n",
       "  'not_null_values': 1566528,\n",
       "  'null_values': 0},\n",
       " 'drop_unexpected': False,\n",
       " 'result': True}"
      ]
     },
     "execution_count": 40,
     "metadata": {},
     "output_type": "execute_result"
    }
   ],
   "source": [
    "json.loads(dq.check_column_values_not_null(column = \"obm_direction\", qlevel='assert'))"
   ]
  },
  {
   "cell_type": "code",
   "execution_count": 41,
   "id": "determined-idaho",
   "metadata": {},
   "outputs": [
    {
     "data": {
      "text/plain": [
       "{'check_type': 'Check column values to be not null',\n",
       " 'column_name': 'kp_in_track',\n",
       " 'qualification_level': 'assert',\n",
       " 'threshold': {'threshold_percent': 0, 'threshold_value': 0},\n",
       " 'observed_value': {'total_values': 1566528,\n",
       "  'not_null_values': 1566528,\n",
       "  'null_values': 0},\n",
       " 'drop_unexpected': False,\n",
       " 'result': True}"
      ]
     },
     "execution_count": 41,
     "metadata": {},
     "output_type": "execute_result"
    }
   ],
   "source": [
    "json.loads(dq.check_column_values_not_null(column = \"kp_in_track\", qlevel='assert'))"
   ]
  },
  {
   "cell_type": "markdown",
   "id": "orange-elite",
   "metadata": {},
   "source": [
    "#### Value length"
   ]
  },
  {
   "cell_type": "code",
   "execution_count": 42,
   "id": "emerging-interstate",
   "metadata": {},
   "outputs": [
    {
     "data": {
      "text/plain": [
       "{'check_type': 'check length of column values to be in specific range of length',\n",
       " 'column_name': 'scanned_mac_address',\n",
       " 'qualification_level': 'assert',\n",
       " 'expected_values_len_range': [17, 17],\n",
       " 'include_null': True,\n",
       " 'threshold': {'threshold_percent': 0, 'threshold_value': 0},\n",
       " 'observed_value': {'total_values': 1566528,\n",
       "  'not_null_values': 1566528,\n",
       "  'null_values': 0,\n",
       "  'values_in_range': 1566528,\n",
       "  'values_not_in_range': 0,\n",
       "  'percent_not_in_range': 0.0},\n",
       " 'drop_unexpected': False,\n",
       " 'result': True}"
      ]
     },
     "execution_count": 42,
     "metadata": {},
     "output_type": "execute_result"
    }
   ],
   "source": [
    "json.loads(dq.check_column_value_length_to_be_between(column = \"scanned_mac_address\", length_range = [17,17], qlevel='assert'))"
   ]
  },
  {
   "cell_type": "markdown",
   "id": "known-palestinian",
   "metadata": {},
   "source": [
    "#### Uniqueness"
   ]
  },
  {
   "cell_type": "code",
   "execution_count": 43,
   "id": "stunning-consortium",
   "metadata": {},
   "outputs": [
    {
     "data": {
      "text/plain": [
       "{'check_type': 'check values to be unique',\n",
       " 'column_name': 'train_id',\n",
       " 'observed_value': {'total_values': 1566528,\n",
       "  'not_null_values': 1566528,\n",
       "  'null_values': 0,\n",
       "  'unique_values': 1},\n",
       " 'result': True}"
      ]
     },
     "execution_count": 43,
     "metadata": {},
     "output_type": "execute_result"
    }
   ],
   "source": [
    "json.loads(dq.check_column_values_to_be_unique(column = \"train_id\"))"
   ]
  },
  {
   "cell_type": "code",
   "execution_count": 44,
   "id": "median-removal",
   "metadata": {},
   "outputs": [
    {
     "data": {
      "text/plain": [
       "{'check_type': 'check values to be unique',\n",
       " 'column_name': 'obm_color',\n",
       " 'observed_value': {'total_values': 1566528,\n",
       "  'not_null_values': 1566528,\n",
       "  'null_values': 0,\n",
       "  'unique_values': 1},\n",
       " 'result': True}"
      ]
     },
     "execution_count": 44,
     "metadata": {},
     "output_type": "execute_result"
    }
   ],
   "source": [
    "json.loads(dq.check_column_values_to_be_unique(column = \"obm_color\"))"
   ]
  },
  {
   "cell_type": "markdown",
   "id": "judicial-officer",
   "metadata": {},
   "source": [
    "#### Distinct"
   ]
  },
  {
   "cell_type": "code",
   "execution_count": 54,
   "id": "surface-devon",
   "metadata": {},
   "outputs": [
    {
     "data": {
      "text/plain": [
       "{'check_type': 'check values to be distinct',\n",
       " 'column_name': 'time',\n",
       " 'qualification_level': 'verify',\n",
       " 'threshold': {'threshold_percent': 20, 'threshold_value': 313305},\n",
       " 'observed_value': {'total_values': 1566528,\n",
       "  'not_null_values': 1566528,\n",
       "  'null_values': 0,\n",
       "  'distinct_values': 1415480,\n",
       "  'distinct_percent': 90.36,\n",
       "  'non_distinct_values': 151048,\n",
       "  'non_distinct_percent': 9.64},\n",
       " 'result': True}"
      ]
     },
     "execution_count": 54,
     "metadata": {},
     "output_type": "execute_result"
    }
   ],
   "source": [
    "json.loads(dq.check_column_values_to_be_distinct(column = \"time\", qlevel='verify', threshold_percent=20))"
   ]
  },
  {
   "cell_type": "code",
   "execution_count": 55,
   "id": "accomplished-bulgarian",
   "metadata": {},
   "outputs": [
    {
     "data": {
      "text/plain": [
       "{'check_type': 'check values to be distinct',\n",
       " 'column_name': 'ho_count',\n",
       " 'qualification_level': 'verify',\n",
       " 'threshold': {'threshold_percent': 0, 'threshold_value': 0},\n",
       " 'observed_value': {'total_values': 1566528,\n",
       "  'not_null_values': 655,\n",
       "  'null_values': 1565873,\n",
       "  'distinct_values': 655,\n",
       "  'distinct_percent': 0.04,\n",
       "  'non_distinct_values': 1565873,\n",
       "  'non_distinct_percent': 99.96},\n",
       " 'result': False}"
      ]
     },
     "execution_count": 55,
     "metadata": {},
     "output_type": "execute_result"
    }
   ],
   "source": [
    "# do changes to the library to add include_null for this check\n",
    "json.loads(dq.check_column_values_to_be_distinct(column = \"ho_count\", qlevel='verify', threshold_percent = 0))"
   ]
  },
  {
   "cell_type": "markdown",
   "id": "heavy-finnish",
   "metadata": {},
   "source": [
    "#### Values belonging to a set"
   ]
  },
  {
   "cell_type": "code",
   "execution_count": 56,
   "id": "rolled-translator",
   "metadata": {},
   "outputs": [
    {
     "data": {
      "text/plain": [
       "{'check_type': 'check column to have values from a specific set',\n",
       " 'column_name': 'obm_direction',\n",
       " 'qualification_level': 'verify',\n",
       " 'expected_values_list': ['Head', 'Tail'],\n",
       " 'include_null': True,\n",
       " 'threshold': {'threshold_percent': 0, 'threshold_value': 0},\n",
       " 'observed_value': {'total_values': 1566528,\n",
       "  'not_null_values': 1566528,\n",
       "  'null_values': 0,\n",
       "  'column_values_list': ['Head', 'Tail'],\n",
       "  'values_not_in_column_list': [],\n",
       "  'unexpected_values_list': [],\n",
       "  'unexpected_values_count': 0,\n",
       "  'unexpected_values_percent': 0},\n",
       " 'drop_unexpected': False,\n",
       " 'result': True}"
      ]
     },
     "execution_count": 56,
     "metadata": {},
     "output_type": "execute_result"
    }
   ],
   "source": [
    "json.loads(dq.check_column_values_to_be_in_set(column = \"obm_direction\", list_values = ['Head','Tail'], qlevel='verify', threshold_percent = 0, include_null=True, drop_unexpected_rows=False))"
   ]
  },
  {
   "cell_type": "code",
   "execution_count": 57,
   "id": "pretty-firewall",
   "metadata": {},
   "outputs": [
    {
     "data": {
      "text/plain": [
       "{'check_type': 'check column to have values from a specific set',\n",
       " 'column_name': 'obm_color',\n",
       " 'qualification_level': 'verify',\n",
       " 'expected_values_list': ['BLUE', 'RED'],\n",
       " 'include_null': True,\n",
       " 'threshold': {'threshold_percent': 0, 'threshold_value': 0},\n",
       " 'observed_value': {'total_values': 1566528,\n",
       "  'not_null_values': 1566528,\n",
       "  'null_values': 0,\n",
       "  'column_values_list': ['BLUE'],\n",
       "  'values_not_in_column_list': ['RED'],\n",
       "  'unexpected_values_list': [],\n",
       "  'unexpected_values_count': 0,\n",
       "  'unexpected_values_percent': 0},\n",
       " 'drop_unexpected': False,\n",
       " 'result': True}"
      ]
     },
     "execution_count": 57,
     "metadata": {},
     "output_type": "execute_result"
    }
   ],
   "source": [
    "json.loads(dq.check_column_values_to_be_in_set(column = \"obm_color\", list_values = ['BLUE','RED'], qlevel='verify', threshold_percent = 0, include_null=True, drop_unexpected_rows=False))"
   ]
  },
  {
   "cell_type": "markdown",
   "id": "alpha-organ",
   "metadata": {},
   "source": [
    "#### Monotonicity"
   ]
  },
  {
   "cell_type": "code",
   "execution_count": 58,
   "id": "confident-funds",
   "metadata": {},
   "outputs": [
    {
     "data": {
      "text/plain": [
       "{'check_type': 'check column values to be monotonic',\n",
       " 'column_name': 'time',\n",
       " 'qualification_level': 'assert',\n",
       " 'monotonic_increasing': True,\n",
       " 'strictly_monotonic': False,\n",
       " 'threshold': {'threshold_percent': 0, 'threshold_value': 0},\n",
       " 'observed_value': {'total_values': 1566528,\n",
       "  'not_null_values': 1566528,\n",
       "  'null_values': 0,\n",
       "  'monotonic_values': 1566528,\n",
       "  'non_monotonic_values': 0,\n",
       "  'non_monotonic_percent': 0.0},\n",
       " 'drop_unexpected': False,\n",
       " 'result': True}"
      ]
     },
     "execution_count": 58,
     "metadata": {},
     "output_type": "execute_result"
    }
   ],
   "source": [
    "json.loads(dq.check_column_values_to_be_monotonic(column = \"time\", increasing=True, qlevel='assert', strictly_monotonic=False))"
   ]
  },
  {
   "cell_type": "markdown",
   "id": "narrow-prospect",
   "metadata": {},
   "source": [
    "#### Time format"
   ]
  },
  {
   "cell_type": "code",
   "execution_count": 59,
   "id": "emotional-homeless",
   "metadata": {
    "scrolled": true
   },
   "outputs": [
    {
     "data": {
      "text/plain": [
       "{'check_type': 'check column values to match strftime',\n",
       " 'column_name': 'time',\n",
       " 'qualification_level': 'verify',\n",
       " 'expected_strftime_format': '%Y-%m-%d %H:%M:%S.%f',\n",
       " 'threshold': {'threshold_percent': 1, 'threshold_value': 15665},\n",
       " 'observed_value': {'total_values': 1566528,\n",
       "  'not_null_values': 1566528,\n",
       "  'null_values': 0,\n",
       "  'expected_format_values': 1566528,\n",
       "  'unexpected_format_values': 0},\n",
       " 'drop_unexpected': True,\n",
       " 'result': True}"
      ]
     },
     "execution_count": 59,
     "metadata": {},
     "output_type": "execute_result"
    }
   ],
   "source": [
    "# json.loads(dq.check_column_values_to_match_strftime(column = \"time\", strftime_format = \"%Y-%m-%d %H:%M:%S.%f\", qlevel='verify', threshold_percent=1, drop_unexpected_rows=True))"
   ]
  },
  {
   "cell_type": "code",
   "execution_count": 24,
   "id": "confidential-coalition",
   "metadata": {},
   "outputs": [],
   "source": [
    "dq.generate_dq_result(save_json = True)"
   ]
  },
  {
   "cell_type": "code",
   "execution_count": 25,
   "id": "earned-separate",
   "metadata": {
    "scrolled": true
   },
   "outputs": [
    {
     "data": {
      "text/plain": [
       "{'checks_table_level': {'Check sparsity to be below specific threshold': {'check_type': 'Check sparsity to be below specific threshold',\n",
       "   'threshold': {'threshold_percent': 45, 'threshold_value': 16213564},\n",
       "   'observed_value': {'total_cells': 36030144,\n",
       "    'total_empty_cells': 10898253,\n",
       "    'sparsity_percent': 30.25},\n",
       "   'result': True},\n",
       "  'check dataframe columns to match a set of columns': {'check_type': 'check dataframe columns to match a set of columns',\n",
       "   'qualification_level': 'verify',\n",
       "   'expected_value': ['time',\n",
       "    'train_id',\n",
       "    'train_speed',\n",
       "    'lost_pkt',\n",
       "    'obm_color',\n",
       "    'obm_direction',\n",
       "    'track_id',\n",
       "    'kp_in_track',\n",
       "    'scanned_mac_address',\n",
       "    'rssi_dbm',\n",
       "    'ho_count',\n",
       "    'ho_duration',\n",
       "    'crssi_dbm'],\n",
       "   'observed_value': {'columns_in_data': ['ws_source_ip',\n",
       "     'ws_destination_ip',\n",
       "     'time',\n",
       "     'train_id',\n",
       "     'train_speed',\n",
       "     'mesg_seq_number',\n",
       "     'lost_pkt',\n",
       "     'obm_cab_id',\n",
       "     'obm_color',\n",
       "     'obm_direction',\n",
       "     'block_id',\n",
       "     'absc_in_block',\n",
       "     'track_id',\n",
       "     'kp_in_track',\n",
       "     'time_epoch',\n",
       "     'obm_source_ip',\n",
       "     'scanned_mac_address',\n",
       "     'rssi_dbm',\n",
       "     'connected_mac_address',\n",
       "     'ho_count',\n",
       "     'ho_duration',\n",
       "     'crssi_dbm',\n",
       "     'irssi_dbm'],\n",
       "    'columns_not_in_data': [],\n",
       "    'columns_unexpected': ['connected_mac_address',\n",
       "     'irssi_dbm',\n",
       "     'time_epoch',\n",
       "     'obm_cab_id',\n",
       "     'block_id',\n",
       "     'mesg_seq_number',\n",
       "     'ws_destination_ip',\n",
       "     'ws_source_ip',\n",
       "     'obm_source_ip',\n",
       "     'absc_in_block']},\n",
       "   'result': True},\n",
       "  'checks_table_total': 2,\n",
       "  'checks_table_passed': 2,\n",
       "  'checks_table_failed': 0,\n",
       "  'result': True},\n",
       " 'checks_column_level': {'rssi_dbm': {'check values to be in a specific range': {'check_type': 'check values to be in a specific range',\n",
       "    'column_name': 'rssi_dbm',\n",
       "    'qualification_level': 'verify',\n",
       "    'expected_values_range': [-100, -20],\n",
       "    'include_null': False,\n",
       "    'threshold': {'threshold_percent': 5, 'threshold_value': 78326},\n",
       "    'observed_value': {'total_values': 1566528,\n",
       "     'not_null_values': 1531824,\n",
       "     'null_values': 34704,\n",
       "     'values_in_range': 1531824,\n",
       "     'values_out_range': 0},\n",
       "    'drop_unexpected': False,\n",
       "    'result': True}},\n",
       "  'crssi_dbm': {'check values to be in a specific range': {'check_type': 'check values to be in a specific range',\n",
       "    'column_name': 'crssi_dbm',\n",
       "    'qualification_level': 'verify',\n",
       "    'expected_values_range': [-85, -20],\n",
       "    'include_null': False,\n",
       "    'threshold': {'threshold_percent': 1, 'threshold_value': 15665},\n",
       "    'observed_value': {'total_values': 1566528,\n",
       "     'not_null_values': 568657,\n",
       "     'null_values': 997871,\n",
       "     'values_in_range': 568650,\n",
       "     'values_out_range': 7},\n",
       "    'drop_unexpected': False,\n",
       "    'result': True}},\n",
       "  'train_speed': {'check values to be in a specific range': {'check_type': 'check values to be in a specific range',\n",
       "    'column_name': 'train_speed',\n",
       "    'qualification_level': 'assert',\n",
       "    'expected_values_range': [0, 85],\n",
       "    'include_null': True,\n",
       "    'threshold': {'threshold_percent': 0, 'threshold_value': 0},\n",
       "    'observed_value': {'total_values': 1566528,\n",
       "     'not_null_values': 1566528,\n",
       "     'null_values': 0,\n",
       "     'values_in_range': 1566528,\n",
       "     'values_out_range': 0},\n",
       "    'drop_unexpected': False,\n",
       "    'result': True},\n",
       "   'Check column values to be not null': {'check_type': 'Check column values to be not null',\n",
       "    'column_name': 'train_speed',\n",
       "    'qualification_level': 'assert',\n",
       "    'threshold': {'threshold_percent': 0, 'threshold_value': 0},\n",
       "    'observed_value': {'total_values': 1566528,\n",
       "     'not_null_values': 1566528,\n",
       "     'null_values': 0},\n",
       "    'drop_unexpected': False,\n",
       "    'result': True}},\n",
       "  'time': {'Check column values to be not null': {'check_type': 'Check column values to be not null',\n",
       "    'column_name': 'time',\n",
       "    'qualification_level': 'assert',\n",
       "    'threshold': {'threshold_percent': 0, 'threshold_value': 0},\n",
       "    'observed_value': {'total_values': 1566528,\n",
       "     'not_null_values': 1566528,\n",
       "     'null_values': 0},\n",
       "    'drop_unexpected': False,\n",
       "    'result': True},\n",
       "   'check values to be distinct': {'check_type': 'check values to be distinct',\n",
       "    'column_name': 'time',\n",
       "    'qualification_level': 'verify',\n",
       "    'threshold': {'threshold_percent': 15, 'threshold_value': 234979},\n",
       "    'observed_value': {'total_values': 1566528,\n",
       "     'not_null_values': 1566528,\n",
       "     'null_values': 0,\n",
       "     'distinct_values': 1415480,\n",
       "     'distinct_percent': 90.36,\n",
       "     'non_distinct_values': 151048,\n",
       "     'non_distinct_percent': 9.64},\n",
       "    'result': True},\n",
       "   'check column values to be monotonic': {'check_type': 'check column values to be monotonic',\n",
       "    'column_name': 'time',\n",
       "    'qualification_level': 'assert',\n",
       "    'monotonic_increasing': True,\n",
       "    'strictly_monotonic': False,\n",
       "    'threshold': {'threshold_percent': 0, 'threshold_value': 0},\n",
       "    'observed_value': {'total_values': 1566528,\n",
       "     'not_null_values': 1566528,\n",
       "     'null_values': 0,\n",
       "     'monotonic_values': 1566528,\n",
       "     'non_monotonic_values': 0,\n",
       "     'non_monotonic_percent': 0.0},\n",
       "    'drop_unexpected': False,\n",
       "    'result': True},\n",
       "   'check column values to match strftime': {'check_type': 'check column values to match strftime',\n",
       "    'column_name': 'time',\n",
       "    'qualification_level': 'verify',\n",
       "    'expected_strftime_format': '%Y-%m-%d %H:%M:%S.%f',\n",
       "    'threshold': {'threshold_percent': 1, 'threshold_value': 15665},\n",
       "    'observed_value': {'total_values': 1566528,\n",
       "     'not_null_values': 1566528,\n",
       "     'null_values': 0,\n",
       "     'expected_format_values': 1566528,\n",
       "     'unexpected_format_values': 0},\n",
       "    'drop_unexpected': True,\n",
       "    'result': True}},\n",
       "  'train_id': {'Check column values to be not null': {'check_type': 'Check column values to be not null',\n",
       "    'column_name': 'train_id',\n",
       "    'qualification_level': 'assert',\n",
       "    'threshold': {'threshold_percent': 0, 'threshold_value': 0},\n",
       "    'observed_value': {'total_values': 1566528,\n",
       "     'not_null_values': 1566528,\n",
       "     'null_values': 0},\n",
       "    'drop_unexpected': False,\n",
       "    'result': True},\n",
       "   'check values to be unique': {'check_type': 'check values to be unique',\n",
       "    'column_name': 'train_id',\n",
       "    'observed_value': {'total_values': 1566528,\n",
       "     'not_null_values': 1566528,\n",
       "     'null_values': 0,\n",
       "     'unique_values': 1},\n",
       "    'result': True}},\n",
       "  'obm_color': {'Check column values to be not null': {'check_type': 'Check column values to be not null',\n",
       "    'column_name': 'obm_color',\n",
       "    'qualification_level': 'assert',\n",
       "    'threshold': {'threshold_percent': 0, 'threshold_value': 0},\n",
       "    'observed_value': {'total_values': 1566528,\n",
       "     'not_null_values': 1566528,\n",
       "     'null_values': 0},\n",
       "    'drop_unexpected': False,\n",
       "    'result': True},\n",
       "   'check values to be unique': {'check_type': 'check values to be unique',\n",
       "    'column_name': 'obm_color',\n",
       "    'observed_value': {'total_values': 1566528,\n",
       "     'not_null_values': 1566528,\n",
       "     'null_values': 0,\n",
       "     'unique_values': 1},\n",
       "    'result': True},\n",
       "   'check column to have values from a specific set': {'check_type': 'check column to have values from a specific set',\n",
       "    'column_name': 'obm_color',\n",
       "    'qualification_level': 'verify',\n",
       "    'expected_values_list': ['BLUE', 'RED'],\n",
       "    'include_null': True,\n",
       "    'threshold': {'threshold_percent': 0, 'threshold_value': 0},\n",
       "    'observed_value': {'total_values': 1566528,\n",
       "     'not_null_values': 1566528,\n",
       "     'null_values': 0,\n",
       "     'column_values_list': ['BLUE'],\n",
       "     'values_not_in_column_list': ['RED'],\n",
       "     'unexpected_values_list': [],\n",
       "     'unexpected_values_count': 0,\n",
       "     'unexpected_values_percent': 0},\n",
       "    'drop_unexpected': False,\n",
       "    'result': True}},\n",
       "  'obm_direction': {'Check column values to be not null': {'check_type': 'Check column values to be not null',\n",
       "    'column_name': 'obm_direction',\n",
       "    'qualification_level': 'assert',\n",
       "    'threshold': {'threshold_percent': 0, 'threshold_value': 0},\n",
       "    'observed_value': {'total_values': 1566528,\n",
       "     'not_null_values': 1566528,\n",
       "     'null_values': 0},\n",
       "    'drop_unexpected': False,\n",
       "    'result': True},\n",
       "   'check column to have values from a specific set': {'check_type': 'check column to have values from a specific set',\n",
       "    'column_name': 'obm_direction',\n",
       "    'qualification_level': 'verify',\n",
       "    'expected_values_list': ['Head', 'Tail'],\n",
       "    'include_null': True,\n",
       "    'threshold': {'threshold_percent': 0, 'threshold_value': 0},\n",
       "    'observed_value': {'total_values': 1566528,\n",
       "     'not_null_values': 1566528,\n",
       "     'null_values': 0,\n",
       "     'column_values_list': ['Head', 'Tail'],\n",
       "     'values_not_in_column_list': [],\n",
       "     'unexpected_values_list': [],\n",
       "     'unexpected_values_count': 0,\n",
       "     'unexpected_values_percent': 0},\n",
       "    'drop_unexpected': False,\n",
       "    'result': True}},\n",
       "  'kp_in_track': {'Check column values to be not null': {'check_type': 'Check column values to be not null',\n",
       "    'column_name': 'kp_in_track',\n",
       "    'qualification_level': 'assert',\n",
       "    'threshold': {'threshold_percent': 0, 'threshold_value': 0},\n",
       "    'observed_value': {'total_values': 1566528,\n",
       "     'not_null_values': 1566528,\n",
       "     'null_values': 0},\n",
       "    'drop_unexpected': False,\n",
       "    'result': True}},\n",
       "  'scanned_mac_address': {'check length of column values to be in specific range of length': {'check_type': 'check length of column values to be in specific range of length',\n",
       "    'column_name': 'scanned_mac_address',\n",
       "    'qualification_level': 'assert',\n",
       "    'expected_values_len_range': [17, 17],\n",
       "    'include_null': True,\n",
       "    'threshold': {'threshold_percent': 0, 'threshold_value': 0},\n",
       "    'observed_value': {'total_values': 1566528,\n",
       "     'not_null_values': 1566528,\n",
       "     'null_values': 0,\n",
       "     'values_in_range': 1566528,\n",
       "     'values_not_in_range': 0,\n",
       "     'percent_not_in_range': 0.0},\n",
       "    'drop_unexpected': False,\n",
       "    'result': True}},\n",
       "  'ho_count': {'check values to be distinct': {'check_type': 'check values to be distinct',\n",
       "    'column_name': 'ho_count',\n",
       "    'qualification_level': 'assert',\n",
       "    'threshold': {'threshold_percent': 0, 'threshold_value': 0},\n",
       "    'observed_value': {'total_values': 1566528,\n",
       "     'not_null_values': 655,\n",
       "     'null_values': 1565873,\n",
       "     'distinct_values': 655,\n",
       "     'distinct_percent': 0.04,\n",
       "     'non_distinct_values': 1565873,\n",
       "     'non_distinct_percent': 99.96},\n",
       "    'result': False}},\n",
       "  'checks_column_total': 18,\n",
       "  'checks_column_passed': 17,\n",
       "  'checks_column_failed': 1,\n",
       "  'result': False},\n",
       " 'checks_total': 20,\n",
       " 'checks_passed': 19,\n",
       " 'checks_failed': 1,\n",
       " 'total_records_actual': 1566528,\n",
       " 'total_records_dropped': 0,\n",
       " 'result': False}"
      ]
     },
     "execution_count": 25,
     "metadata": {},
     "output_type": "execute_result"
    }
   ],
   "source": [
    "dq.dq_result"
   ]
  }
 ],
 "metadata": {
  "kernelspec": {
   "display_name": "Python 3",
   "language": "python",
   "name": "python3"
  },
  "language_info": {
   "codemirror_mode": {
    "name": "ipython",
    "version": 3
   },
   "file_extension": ".py",
   "mimetype": "text/x-python",
   "name": "python",
   "nbconvert_exporter": "python",
   "pygments_lexer": "ipython3",
   "version": "3.8.3"
  }
 },
 "nbformat": 4,
 "nbformat_minor": 5
}
